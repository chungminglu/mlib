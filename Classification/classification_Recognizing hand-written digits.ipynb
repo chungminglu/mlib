{
 "cells": [
  {
   "cell_type": "code",
   "execution_count": 1,
   "metadata": {},
   "outputs": [
    {
     "name": "stdout",
     "output_type": "stream",
     "text": [
      "target_names (10,)\n",
      "target (1797,)\n",
      "images (1797, 8, 8)\n",
      "DESCR\n",
      "data (1797, 64)\n"
     ]
    },
    {
     "data": {
      "text/plain": [
       "\"('images', (1797L, 8L, 8L))\\t共有 1797 張影像，影像大小為 8x8\\n   ('data', (1797L, 64L))\\tdata 則是將8x8的矩陣攤平成64個元素之一維向量\\n   ('target_names', (10L,))\\t說明10種分類之對應 [0, 1, 2, 3, 4, 5, 6, 7, 8, 9]\\n    DESCR\\t資料之描述\\n   ('target', (1797L,))\\t記錄1797張影像各自代表那一個數字\""
      ]
     },
     "execution_count": 1,
     "metadata": {},
     "output_type": "execute_result"
    }
   ],
   "source": [
    "'''matplotlib.pyplot: 用來繪製影像\n",
    "sklearn.datasets: 用來繪入內建之手寫數字資料庫\n",
    "sklearn.svm: SVM 支持向量機之演算法物件\n",
    "sklearn.metrics: 用來評估辨識準確度以及報表的顯示'''\n",
    "import matplotlib.pyplot as plt\n",
    "from sklearn import datasets, svm, metrics\n",
    "#The digits dataset\n",
    "digits = datasets.load_digits()\n",
    "'''使用datasets.load_digits()將資料存入，digits為一個dict型別資料，我們可以用以下指令來看一下資料的內容。'''\n",
    "for key,value in digits.items():\n",
    "    try:\n",
    "        print(key,value.shape)\n",
    "    except:\n",
    "        print(key)\n",
    "'''('images', (1797L, 8L, 8L))\t共有 1797 張影像，影像大小為 8x8\n",
    "   ('data', (1797L, 64L))\tdata 則是將8x8的矩陣攤平成64個元素之一維向量\n",
    "   ('target_names', (10L,))\t說明10種分類之對應 [0, 1, 2, 3, 4, 5, 6, 7, 8, 9]\n",
    "    DESCR\t資料之描述\n",
    "   ('target', (1797L,))\t記錄1797張影像各自代表那一個數字'''"
   ]
  },
  {
   "cell_type": "code",
   "execution_count": 21,
   "metadata": {},
   "outputs": [
    {
     "data": {
      "image/png": "[encoded data removed]",
      "text/plain": [
       "<matplotlib.figure.Figure at 0x7f6f27940b38>"
      ]
     },
     "metadata": {},
     "output_type": "display_data"
    }
   ],
   "source": [
    "#show images\n",
    "images_and_labels = list(zip(digits.images,digits.target))\n",
    "for index,(image,label) in enumerate(images_and_labels[:4]):\n",
    "    plt.subplot(2 , 4, index + 1)\n",
    "    plt.axis('off')\n",
    "    plt.imshow(image , cmap = plt.cm.gray_r , interpolation = 'nearest')\n",
    "    plt.title('Training:%i'%(label))\n",
    "plt.show()"
   ]
  },
  {
   "cell_type": "code",
   "execution_count": 14,
   "metadata": {},
   "outputs": [
    {
     "name": "stdout",
     "output_type": "stream",
     "text": [
      "[8 8 4 9 0 8 9 8 1 2]\n",
      "[8 8 4 9 0 8 9 8 1 2]\n"
     ]
    }
   ],
   "source": [
    "'''\n",
    "接下來的步驟則是使用reshape指令將8x8的影像資料攤平成64x1的矩陣。 \n",
    "接著用classifier = svm.SVC(gamma=0.001)產生一個SVC分類器(Support Vector Classification)。\n",
    "再將一半的資料送入分類器來訓練classifier.fit(資料:898x64, 分類目標:898x1)。\n",
    "SVC之預設kernel function為RBF (radial basis function):  \n",
    "其中SVC(gamma=0.001)就是在設定RBF函數裏的 這個值必需要大於零。\n",
    "最後，再利用後半部份的資料來測試訓練完成之SVC分類機predict(data[n_samples / 2:])將預測結果存入predicted變數\n",
    "而原先的真實目標資料則存於expected變數\n",
    "'''\n",
    "n_samples = len(digits.images)\n",
    "\n",
    "## 資料攤平:1797 x 8 x 8 -> 1797 x 64\n",
    "# 這裏的-1代表自動計算，相當於 (n_samples, 64)\n",
    "data = digits.images.reshape(n_samples,-1)\n",
    "data\n",
    "# 產生SVC分類器\n",
    "classifier = svm.SVC(gamma = 0.001)\n",
    "\n",
    "# 用前半部份的資料來訓練\n",
    "classifier.fit(data[:int(n_samples / 2)],digits.target[:int(n_samples/2)])\n",
    "\n",
    "expected = digits.target[int(n_samples / 2 ):]\n",
    "\n",
    "#利用後半部份來測試分類器共899筆\n",
    "\n",
    "predicted = classifier.predict(data[int(n_samples / 2) :])\n",
    "print(expected[:10])\n",
    "print(predicted[:10])"
   ]
  },
  {
   "cell_type": "code",
   "execution_count": 15,
   "metadata": {},
   "outputs": [
    {
     "name": "stdout",
     "output_type": "stream",
     "text": [
      "Confusion matrix:\n",
      "[[87  0  0  0  1  0  0  0  0  0]\n",
      " [ 0 88  1  0  0  0  0  0  1  1]\n",
      " [ 0  0 85  1  0  0  0  0  0  0]\n",
      " [ 0  0  0 79  0  3  0  4  5  0]\n",
      " [ 0  0  0  0 88  0  0  0  0  4]\n",
      " [ 0  0  0  0  0 88  1  0  0  2]\n",
      " [ 0  1  0  0  0  0 90  0  0  0]\n",
      " [ 0  0  0  0  0  1  0 88  0  0]\n",
      " [ 0  0  0  0  0  0  0  0 88  0]\n",
      " [ 0  0  0  1  0  1  0  0  0 90]]\n"
     ]
    }
   ],
   "source": [
    "#那在判斷準確度方面，我們可以使用一個名為「混淆矩陣」(Confusion matrix)的方式來統計\n",
    "\n",
    "print(\"Confusion matrix:\\n%s\"\n",
    "    % metrics.confusion_matrix(expected, predicted))"
   ]
  },
  {
   "cell_type": "code",
   "execution_count": 20,
   "metadata": {},
   "outputs": [
    {
     "data": {
      "image/png": "[encoded data removed]",
      "text/plain": [
       "<matplotlib.figure.Figure at 0x7f6f1c4bef60>"
      ]
     },
     "metadata": {},
     "output_type": "display_data"
    }
   ],
   "source": [
    "def plot_confusion_matrix(cm,title = 'Confusion matrix',cmap=plt.cm.Blues):\n",
    "    import numpy as np\n",
    "    plt.imshow(cm, interpolation='nearest',cmap=cmap )\n",
    "    plt.title(title)\n",
    "    plt.colorbar()\n",
    "    tick_marks = np.arange(len(digits.target_names))\n",
    "    plt.xticks(tick_marks, digits.target_names, rotation = 45)\n",
    "    plt.yticks(tick_marks,digits.target_names)\n",
    "    plt.tight_layout()\n",
    "    plt.ylabel('True label')\n",
    "    plt.xlabel('Predicted label')\n",
    "    plt.show()\n",
    "plt.figure()\n",
    "plot_confusion_matrix(metrics.confusion_matrix(expected,predicted))\n"
   ]
  },
  {
   "cell_type": "markdown",
   "metadata": {},
   "source": [
    "'''precision = TP/(TP+FP) = 79/81 = 0.98\n",
    "判斷為3且實際為3的比例為0.98\n",
    "recall = TP/(TP+FN) = 79/91 = 0.87\n",
    "實際為3且判斷為3的比例為0.87\n",
    "f1-score 則為以上兩者之「harmonic mean 調和平均數」\n",
    "f1-score= 2 x precision x recall/(recision + recall) = 0.92'''"
   ]
  },
  {
   "cell_type": "code",
   "execution_count": 22,
   "metadata": {},
   "outputs": [
    {
     "name": "stdout",
     "output_type": "stream",
     "text": [
      "Classification report for classifier SVC(C=1.0, cache_size=200, class_weight=None, coef0=0.0,\n",
      "  decision_function_shape=None, degree=3, gamma=0.001, kernel='rbf',\n",
      "  max_iter=-1, probability=False, random_state=None, shrinking=True,\n",
      "  tol=0.001, verbose=False):\n",
      "             precision    recall  f1-score   support\n",
      "\n",
      "          0       1.00      0.99      0.99        88\n",
      "          1       0.99      0.97      0.98        91\n",
      "          2       0.99      0.99      0.99        86\n",
      "          3       0.98      0.87      0.92        91\n",
      "          4       0.99      0.96      0.97        92\n",
      "          5       0.95      0.97      0.96        91\n",
      "          6       0.99      0.99      0.99        91\n",
      "          7       0.96      0.99      0.97        89\n",
      "          8       0.94      1.00      0.97        88\n",
      "          9       0.93      0.98      0.95        92\n",
      "\n",
      "avg / total       0.97      0.97      0.97       899\n",
      "\n",
      "\n"
     ]
    }
   ],
   "source": [
    "print('Classification report for classifier %s:\\n%s\\n'%(classifier,metrics.classification_report(expected,predicted)))"
   ]
  },
  {
   "cell_type": "code",
   "execution_count": 24,
   "metadata": {},
   "outputs": [
    {
     "data": {
      "image/png": "[encoded data removed]",
      "text/plain": [
       "<matplotlib.figure.Figure at 0x7f6f1a4f1a90>"
      ]
     },
     "metadata": {},
     "output_type": "display_data"
    }
   ],
   "source": [
    "images_and_predictions = list(\n",
    "                              zip(digits.images[int(n_samples / 2):],predicted))\n",
    "for index , (image,prediction) in enumerate(images_and_predictions[:4]):\n",
    "    plt.subplot(2, 4, index + 5)\n",
    "    plt.axis('off')\n",
    "    plt.imshow(image,cmap=plt.cm.gray_r , interpolation= 'nearest')\n",
    "    plt.title('Prediction:%i'%(prediction))\n",
    "plt.show()"
   ]
  }
 ],
 "metadata": {
  "kernelspec": {
   "display_name": "Python 3",
   "language": "python",
   "name": "python3"
  },
  "language_info": {
   "codemirror_mode": {
    "name": "ipython",
    "version": 3
   },
   "file_extension": ".py",
   "mimetype": "text/x-python",
   "name": "python",
   "nbconvert_exporter": "python",
   "pygments_lexer": "ipython3",
   "version": "3.5.3"
  }
 },
 "nbformat": 4,
 "nbformat_minor": 2
}
