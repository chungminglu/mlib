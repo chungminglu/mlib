{
 "cells": [
  {
   "cell_type": "code",
   "execution_count": 3,
   "metadata": {},
   "outputs": [
    {
     "name": "stdout",
     "output_type": "stream",
     "text": [
      "DESCR\n",
      "data (1797, 64)\n",
      "target (1797,)\n",
      "images (1797, 8, 8)\n",
      "target_names (10,)\n"
     ]
    },
    {
     "data": {
      "text/plain": [
       "''"
      ]
     },
     "execution_count": 3,
     "metadata": {},
     "output_type": "execute_result"
    }
   ],
   "source": [
    "'''matplotlib.pyplot: 用來繪製影像\n",
    "sklearn.datasets: 用來繪入內建之手寫數字資料庫\n",
    "sklearn.svm: SVM 支持向量機之演算法物件\n",
    "sklearn.metrics: 用來評估辨識準確度以及報表的顯示'''\n",
    "import matplotlib.pyplot as plt\n",
    "from sklearn import datasets, svm, metrics\n",
    "#The digits dataset\n",
    "digits = datasets.load_digits()\n",
    "'''使用datasets.load_digits()將資料存入，digits為一個dict型別資料，我們可以用以下指令來看一下資料的內容。'''\n",
    "for key,value in digits.items():\n",
    "    try:\n",
    "        print(key,value.shape)\n",
    "    except:\n",
    "        print(key)\n",
    "'''('images', (1797L, 8L, 8L))\t共有 1797 張影像，影像大小為 8x8\n",
    "('data', (1797L, 64L))\tdata 則是將8x8的矩陣攤平成64個元素之一維向量\n",
    "('target_names', (10L,))\t說明10種分類之對應 [0, 1, 2, 3, 4, 5, 6, 7, 8, 9]\n",
    "DESCR\t資料之描述\n",
    "('target', (1797L,))\t記錄1797張影像各自代表那一個數字'''"
   ]
  },
  {
   "cell_type": "code",
   "execution_count": null,
   "metadata": {
    "collapsed": true
   },
   "outputs": [],
   "source": [
    "images_and_labels = list"
   ]
  }
 ],
 "metadata": {
  "kernelspec": {
   "display_name": "Python 3",
   "language": "python",
   "name": "python3"
  },
  "language_info": {
   "codemirror_mode": {
    "name": "ipython",
    "version": 3
   },
   "file_extension": ".py",
   "mimetype": "text/x-python",
   "name": "python",
   "nbconvert_exporter": "python",
   "pygments_lexer": "ipython3",
   "version": "3.5.3"
  }
 },
 "nbformat": 4,
 "nbformat_minor": 2
}
