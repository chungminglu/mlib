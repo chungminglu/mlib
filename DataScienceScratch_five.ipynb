{
 "cells": [
  {
   "cell_type": "code",
   "execution_count": 70,
   "metadata": {},
   "outputs": [
    {
     "data": {
      "image/png": "[encoded data removed]",
      "text/plain": [
       "<matplotlib.figure.Figure at 0x7ff6409296a0>"
      ]
     },
     "metadata": {},
     "output_type": "display_data"
    }
   ],
   "source": [
    "####宣告一組數值\n",
    "import random\n",
    "num_friends=[]\n",
    "for i in range(0,100):\n",
    "    a=random.randint(0,100)\n",
    "    num_friends.append(a)\n",
    "num_friends\n",
    "######################################################\n",
    "import random\n",
    "daily_minutes=[]\n",
    "for i in range(0,100):\n",
    "    a=random.randint(0,100)\n",
    "    daily_minutes.append(a)\n",
    "daily_minutes\n",
    "######################################################\n",
    "from collections import Counter\n",
    "import matplotlib.pyplot as plt\n",
    "friend_counts=Counter(num_friends)\n",
    "xs = range(101)                   #最大數字為100\n",
    "ys = [friend_counts[x] for x in xs] #高度為朋友的數量\n",
    "plt.bar(xs,ys)\n",
    "plt.axis([0, 101, 0, 25])\n",
    "plt.title(\"histogram of Friend Counts\")\n",
    "plt.xlabel(\"amount of friends\")\n",
    "plt.ylabel(\"amount of people\")\n",
    "plt.show()\n",
    "\n",
    "#########################################################\n",
    "\n",
    "num_points = len(num_friends)\n",
    "largest_value = max(num_friends)\n",
    "smallest_value = min(num_friends)\n",
    "sorted_values = sorted(num_friends)\n",
    "smallest_valu = sorted_values[0]\n",
    "second_smallest_value = sorted_values[1] #1\n",
    "second_largest_value = sorted_values[-2] #49"
   ]
  },
  {
   "cell_type": "code",
   "execution_count": 50,
   "metadata": {},
   "outputs": [
    {
     "data": {
      "text/plain": [
       "53.0"
      ]
     },
     "execution_count": 50,
     "metadata": {},
     "output_type": "execute_result"
    }
   ],
   "source": [
    "def median(v):\n",
    "    '''找出落在v最中央位置的數值'''\n",
    "    n = len(v)\n",
    "    sorted_v = sorted(v)\n",
    "    midpoint = n // 2\n",
    "    \n",
    "    if n%2 == 1:\n",
    "        #如果是奇數送回中位數\n",
    "        return sorted_v[midpoint]\n",
    "    else:\n",
    "        #如果是偶數,就送回兩個中央位置的平均值\n",
    "        lo = midpoint-1\n",
    "        hi = midpoint\n",
    "        return (sorted_v[lo]+sorted_v[hi]) / 2\n",
    "median(num_friends)"
   ]
  },
  {
   "cell_type": "code",
   "execution_count": 51,
   "metadata": {},
   "outputs": [
    {
     "name": "stdout",
     "output_type": "stream",
     "text": [
      "25\n",
      "100\n",
      "94\n"
     ]
    }
   ],
   "source": [
    "def quantile(x,p):\n",
    "    '''送回x裡頭正好位於第p個百分比位置的數值'''\n",
    "    p_index = int(p * len(x))\n",
    "    return sorted(x)[p_index]\n",
    "\n",
    "print(quantile(num_friends,0.25))\n",
    "print(quantile(num_friends,0.99))\n",
    "print(quantile(num_friends,0.9))"
   ]
  },
  {
   "cell_type": "code",
   "execution_count": 52,
   "metadata": {},
   "outputs": [
    {
     "data": {
      "text/plain": [
       "[20]"
      ]
     },
     "execution_count": 52,
     "metadata": {},
     "output_type": "execute_result"
    }
   ],
   "source": [
    "# from collections import Counter\n",
    "#######眾數\n",
    "def mode(x):\n",
    "    '''送回一個列表,裡頭放的是眾數(數量不只一個)'''\n",
    "    counts=Counter(x)\n",
    "    max_count=max(counts.values())#找出最多的數值\n",
    "    return[x_i for x_i,count in counts.items()\n",
    "           if count == max_count]\n",
    "mode(num_friends)"
   ]
  },
  {
   "cell_type": "code",
   "execution_count": 53,
   "metadata": {},
   "outputs": [
    {
     "data": {
      "text/plain": [
       "100"
      ]
     },
     "execution_count": 53,
     "metadata": {},
     "output_type": "execute_result"
    }
   ],
   "source": [
    "##離散程度\n",
    "#range 再python 中有其他的意義 所以我們使用另一個不同的名稱\n",
    "def data_range(x):\n",
    "    return max(x)-min(x)\n",
    "data_range(num_friends)"
   ]
  },
  {
   "cell_type": "code",
   "execution_count": 59,
   "metadata": {},
   "outputs": [
    {
     "data": {
      "text/plain": [
       "883.86828282828299"
      ]
     },
     "execution_count": 59,
     "metadata": {},
     "output_type": "execute_result"
    }
   ],
   "source": [
    "from numpy import mean\n",
    "#向量內積\n",
    "def dot(v , w):\n",
    "    \"\"\"v_1 * w_1 +...+v_n * w_n \"\"\"\n",
    "    return sum(v_i * w_i\n",
    "               for v_i,w_i in zip(v,w))\n",
    "\n",
    "###################################################\n",
    "\n",
    "def sum_of_squares(v):\n",
    "    '''v_1 * v_1 +...+v_n * v_n'''\n",
    "    return dot(v,v)\n",
    "\n",
    "#變異數\n",
    "def de_mean(x):\n",
    "    \"\"\"把x轉換成每個元素與平均值的差值\"\"\"\n",
    "    x_bar = mean(x)\n",
    "    return [x_i - x_bar for x_i in x]\n",
    "\n",
    "def variance(x):\n",
    "    '''假設x至少有兩個元素'''\n",
    "    n = len(x)\n",
    "    deviations = de_mean(x)\n",
    "    return sum_of_squares(deviations) / (n-1)\n",
    "variance(num_friends)"
   ]
  },
  {
   "cell_type": "code",
   "execution_count": 62,
   "metadata": {},
   "outputs": [
    {
     "data": {
      "text/plain": [
       "29.729922348171094"
      ]
     },
     "execution_count": 62,
     "metadata": {},
     "output_type": "execute_result"
    }
   ],
   "source": [
    "import math\n",
    "def standard_deviation(x):\n",
    "    return math.sqrt(variance(x))\n",
    "standard_deviation(num_friends)"
   ]
  },
  {
   "cell_type": "code",
   "execution_count": 65,
   "metadata": {},
   "outputs": [
    {
     "data": {
      "text/plain": [
       "54"
      ]
     },
     "execution_count": 65,
     "metadata": {},
     "output_type": "execute_result"
    }
   ],
   "source": [
    "def interquartile_range(x):\n",
    "    return quantile(x,0.75) - quantile(x,0.25)\n",
    "interquartile_range(num_friends)"
   ]
  },
  {
   "cell_type": "code",
   "execution_count": 67,
   "metadata": {},
   "outputs": [
    {
     "data": {
      "text/plain": [
       "51.577878787878788"
      ]
     },
     "execution_count": 67,
     "metadata": {},
     "output_type": "execute_result"
    }
   ],
   "source": [
    "###############################相關\n",
    "def covariance(x,y):\n",
    "    n=len(x)\n",
    "    return dot(de_mean(x),de_mean(y)) / (n-1)\n",
    "covariance(num_friends,daily_minutes)"
   ]
  },
  {
   "cell_type": "code",
   "execution_count": 71,
   "metadata": {},
   "outputs": [
    {
     "data": {
      "text/plain": [
       "0.13560813252874671"
      ]
     },
     "execution_count": 71,
     "metadata": {},
     "output_type": "execute_result"
    }
   ],
   "source": [
    "def correlation(x,y):\n",
    "    stdev_x = standard_deviation(x)\n",
    "    stdev_y = standard_deviation(y)\n",
    "    if stdev_x > 0 and stdev_y > 0:\n",
    "        return covariance(x,y) / stdev_x /stdev_y\n",
    "    else:\n",
    "        return 0 #如果沒有變異數 相關值是零\n",
    "correlation(num_friends,daily_minutes)"
   ]
  },
  {
   "cell_type": "code",
   "execution_count": 72,
   "metadata": {},
   "outputs": [
    {
     "data": {
      "text/plain": [
       "0.14592127217269954"
      ]
     },
     "execution_count": 72,
     "metadata": {},
     "output_type": "execute_result"
    }
   ],
   "source": [
    "outlier = num_friends.index(100)\n",
    "num_friends_good =[ x\n",
    "                   for i , x in enumerate(num_friends)\n",
    "                   if i != outlier]\n",
    "daily_minutes_good = [ x\n",
    "                      for i ,x in enumerate(daily_minutes)\n",
    "                      if i != outlier]\n",
    "correlation(num_friends_good,daily_minutes_good)"
   ]
  }
 ],
 "metadata": {
  "kernelspec": {
   "display_name": "Python 3",
   "language": "python",
   "name": "python3"
  },
  "language_info": {
   "codemirror_mode": {
    "name": "ipython",
    "version": 3
   },
   "file_extension": ".py",
   "mimetype": "text/x-python",
   "name": "python",
   "nbconvert_exporter": "python",
   "pygments_lexer": "ipython3",
   "version": "3.5.3"
  }
 },
 "nbformat": 4,
 "nbformat_minor": 2
}
