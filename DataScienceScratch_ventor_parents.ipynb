{
 "cells": [
  {
   "cell_type": "code",
   "execution_count": 35,
   "metadata": {
    "collapsed": true
   },
   "outputs": [],
   "source": [
    "#############################################向量公式\n",
    "def vector_add(v,w):\n",
    "    \"\"\"相應元素相加\"\"\"\n",
    "    return [v_i + w_i \n",
    "            for v_i , w_i in zip(v,w)]\n",
    "#################################################\n",
    "\n",
    "def vector_subtract(v , w):\n",
    "    \"\"\"\"相應元素相減\"\"\"\n",
    "    return [v_i - w_i \n",
    "            for v_i , w_i in zip(v,w)]\n",
    "#################################################\n",
    "\n",
    "def vector_sum(vectors):\n",
    "    '''所有相應元素的總和'''\n",
    "    result = vectors[0]\n",
    "    for vector in vectors[1:]:\n",
    "        result =vector_add(result,vector)\n",
    "    return result\n",
    "################################################\n",
    "\n",
    "def vector_sum(vector):\n",
    "    return reduce(vector_add,vectors)\n",
    "\n",
    "################################################\n",
    "\n",
    "def scalar_multiply(c,v):\n",
    "    \"\"\"C is integer v is vector \"\"\"\n",
    "    return [c * v_i for v_i in v]\n",
    "\n",
    "##################################################\n",
    "def vector_mean(vectors):\n",
    "    \"\"\"計算出一個向量,其元素為所有向量相應平均值\"\"\"\n",
    "    n = len(vectors)\n",
    "    return scalar_multiply(1/n,vector_num(vectors))\n",
    "\n",
    "###################################################\n",
    "#向量內積\n",
    "def dot(v , w):\n",
    "    \"\"\"v_1 * w_1 +...+v_n * w_n \"\"\"\n",
    "    return sum(v_i * w_i\n",
    "               for v_i,w_i in zip(v,w))\n",
    "\n",
    "###################################################\n",
    "\n",
    "def sum_of_squares(v):\n",
    "    '''v_1 * v_1 +...+v_n * v_n'''\n",
    "    return dot(v,v)\n",
    "\n",
    "##################################################\n",
    "import math\n",
    "\n",
    "def magnitude(v):\n",
    "    return math.sqrt(sum_of_squares(v)) #math.sqrt為憑方根函式\n",
    "\n",
    "##################################################\n",
    "def squared_distance(v , w):\n",
    "    \"\"\" (v_1 - w_1) ** 2 + ...+ (v_n-w_n) \"\"\"\n",
    "    return sum_of_squares(vector_substract(v , w))\n",
    "\n",
    "###################################################\n",
    "\n",
    "# def distance(v , w):\n",
    "#     return magnitude(vector_subtract(v,w))\n",
    "\n",
    "##################################################\n",
    "#距離公式\n",
    "def distance(v ,w):\n",
    "    return magnitude(vector_subtract(v,w))"
   ]
  },
  {
   "cell_type": "code",
   "execution_count": 52,
   "metadata": {
    "collapsed": true
   },
   "outputs": [],
   "source": [
    "########矩陣\n",
    "def shape(A):\n",
    "    num_rows = len(A)\n",
    "    num_cols = len(A[0]) if A else 0 #第一列的元素數量\n",
    "    return num_rows , num_cols\n",
    "\n",
    "###################################################\n",
    "\n",
    "def get_row(A,i):\n",
    "    return  A[i]\n",
    "###################################################\n",
    "\n",
    "def get_column(A,j):\n",
    "    return [A_i[j]\n",
    "            for A_i in A]\n",
    "\n",
    "###################################################\n",
    "#創造矩陣的函式\n",
    "def make_matrix(num_rows,num_cols, entry_fn):\n",
    "    \"\"\"送回一個num_rows x num_cols的矩陣\n",
    "    其(i,j)元素是由entry_fn(i,j)所決定\"\"\"\n",
    "    return [[entry_fn( i, j) \n",
    "             for j in range(num_cols)]\n",
    "            for i in range(num_rows)]\n",
    "\n",
    "####################################################\n",
    "##矩陣怎樣形成\n",
    "def is_diagonal(i,j):\n",
    "    \"\"\"對角都是1,其餘都是0\"\"\"\n",
    "    return 1 if i == j else 0\n",
    "\n",
    "####################################################\n",
    "\n"
   ]
  },
  {
   "cell_type": "code",
   "execution_count": 56,
   "metadata": {},
   "outputs": [
    {
     "data": {
      "text/plain": [
       "[[1, 0, 0, 0, 0],\n",
       " [0, 1, 0, 0, 0],\n",
       " [0, 0, 1, 0, 0],\n",
       " [0, 0, 0, 1, 0],\n",
       " [0, 0, 0, 0, 1]]"
      ]
     },
     "execution_count": 56,
     "metadata": {},
     "output_type": "execute_result"
    }
   ],
   "source": [
    "a=make_matrix(5,5,is_diagonal)\n",
    "\n"
   ]
  },
  {
   "cell_type": "code",
   "execution_count": 36,
   "metadata": {},
   "outputs": [
    {
     "data": {
      "text/plain": [
       "15.811388300841896"
      ]
     },
     "execution_count": 36,
     "metadata": {},
     "output_type": "execute_result"
    }
   ],
   "source": [
    "distance((5,10),(20,15))"
   ]
  },
  {
   "cell_type": "code",
   "execution_count": 9,
   "metadata": {},
   "outputs": [
    {
     "name": "stdout",
     "output_type": "stream",
     "text": [
      "<zip object at 0x7f2944cc9dc8>\n"
     ]
    }
   ],
   "source": [
    "print(zip((10,1),(0,20)))"
   ]
  }
 ],
 "metadata": {
  "kernelspec": {
   "display_name": "Python 3",
   "language": "python",
   "name": "python3"
  },
  "language_info": {
   "codemirror_mode": {
    "name": "ipython",
    "version": 3
   },
   "file_extension": ".py",
   "mimetype": "text/x-python",
   "name": "python",
   "nbconvert_exporter": "python",
   "pygments_lexer": "ipython3",
   "version": "3.5.3"
  }
 },
 "nbformat": 4,
 "nbformat_minor": 2
}
