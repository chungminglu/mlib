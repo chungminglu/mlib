{
 "cells": [
  {
   "cell_type": "code",
   "execution_count": 10,
   "metadata": {},
   "outputs": [],
   "source": [
    "def tokenize(message):\n",
    "    message = massage.lower()   #轉小寫\n",
    "    all_words = re.findall(\"[a-z0-9]+\",massege) #提取單詞\n",
    "    return set(all_words)\n",
    "\n",
    "def count_words(training_set):\n",
    "    '''訓練組資料training_set 包含了許多兩兩成對的(massage,is_spam)'''\n",
    "    counts = defaultdict(lambda:[0,0])\n",
    "    for message,is_spam in training_set:\n",
    "        for word in tokenize(message):\n",
    "            counts[word][0 if is_spam else 1] += 1\n",
    "    return counts\n",
    "\n",
    "def word_probabailities(counts,total_spams,total_non_spams,k=0.5):\n",
    "    '''把word_counts轉換成元組列表\n",
    "    w , p(w | spam) and p(w | ~spam)'''\n",
    "    return [(w,\n",
    "            (spam + k) / (total_spams + 2 * k),\n",
    "            (non_spam + k) / (total_non_spams + 2 * k))\n",
    "             for w , (spam, non_spam) in counts.iteritems()]\n",
    "\n",
    "def spam_probability(word_probs , message):\n",
    "    message_words = tokenize(message)\n",
    "    log_prob_if_spam = log_prob_if_not_spam = 0.0\n",
    "    #對詞表中的每個單詞進行迭代操作\n",
    "    for word, prob_if_spam , prob_if_not_spam in word_probs:\n",
    "        #如果郵件有出現相應單詞\n",
    "        #就把該單詞有出現的相應機率取對數之後再累加進去\n",
    "        if word in message_words:\n",
    "            log_prob_if_spam += math.log(prob_if_spam)\n",
    "            log_prob_if_not_spam += math.log(prob_if_not_spam)\n",
    "        #如果郵件中沒出現相應單詞\n",
    "        #就把該單詞沒出現的相應機率取對數之後,再累加進去\n",
    "        #單詞沒出現的相應機率,就等於(1 -單詞有出現相應機率)\n",
    "        else:\n",
    "            log_prob_if_spam += math.log(1.0 - prob_if_spam)\n",
    "            log_prob_if_not_spam += math.log(1.0 - prob_if_not_spam)\n",
    "    prob_if_spam = math.exp(log_prob_if_spam)\n",
    "    prob_if_not_spam = math.exp(log_prob_if_not_spam)\n",
    "    return prob_if_spam / (prob_if_spam + prob_if_not_spam)\n",
    "\n",
    "class NaiveBayesClassifer:\n",
    "    def __init__(self,k=0.5):\n",
    "        self.k = k\n",
    "        self.word_probs = []\n",
    "    def train(self,training_set):\n",
    "        #計算垃圾郵件與非垃圾郵件的數量\n",
    "        num_spams = len([is_spam\n",
    "                         for message , is_spam in training_set\n",
    "                         if is_spam])\n",
    "        num_non_spams = len(training_set) - num_spams\n",
    "        \n",
    "        #運用訓練組數據,執行我們所設計的相關運算\n",
    "        word_counts = count_words(training_set)\n",
    "        self.word_probs = word_probabilities(word_counts,\n",
    "                                             num_spams,\n",
    "                                             num_non_spams,\n",
    "                                             self.k)\n",
    "    def classify(self,message):\n",
    "        return spam_probability(self.word_probs,message)"
   ]
  },
  {
   "cell_type": "code",
   "execution_count": 5,
   "metadata": {},
   "outputs": [
    {
     "name": "stdout",
     "output_type": "stream",
     "text": [
      "Collecting machine_learning\n",
      "\u001b[31m  Could not find a version that satisfies the requirement machine_learning (from versions: )\u001b[0m\n",
      "\u001b[31mNo matching distribution found for machine_learning\u001b[0m\n"
     ]
    }
   ],
   "source": [
    "!pip install machine_learning"
   ]
  }
 ],
 "metadata": {
  "kernelspec": {
   "display_name": "Python 3",
   "language": "python",
   "name": "python3"
  },
  "language_info": {
   "codemirror_mode": {
    "name": "ipython",
    "version": 3
   },
   "file_extension": ".py",
   "mimetype": "text/x-python",
   "name": "python",
   "nbconvert_exporter": "python",
   "pygments_lexer": "ipython3",
   "version": "3.5.3"
  }
 },
 "nbformat": 4,
 "nbformat_minor": 2
}
